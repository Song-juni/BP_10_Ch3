{
  "nbformat": 4,
  "nbformat_minor": 0,
  "metadata": {
    "colab": {
      "provenance": [],
      "authorship_tag": "ABX9TyPhpCAN7e/ssKuRMJl/blfP",
      "include_colab_link": true
    },
    "kernelspec": {
      "name": "python3",
      "display_name": "Python 3"
    },
    "language_info": {
      "name": "python"
    }
  },
  "cells": [
    {
      "cell_type": "markdown",
      "metadata": {
        "id": "view-in-github",
        "colab_type": "text"
      },
      "source": [
        "<a href=\"https://colab.research.google.com/github/Song-juni/BP_10_Ch3/blob/main/EXE221031_03.ipynb\" target=\"_parent\"><img src=\"https://colab.research.google.com/assets/colab-badge.svg\" alt=\"Open In Colab\"/></a>"
      ]
    },
    {
      "cell_type": "markdown",
      "source": [
        "#3-1"
      ],
      "metadata": {
        "id": "Ultnhxd0y28S"
      }
    },
    {
      "cell_type": "code",
      "execution_count": null,
      "metadata": {
        "colab": {
          "base_uri": "https://localhost:8080/"
        },
        "id": "u-i5NzW9z7Ux",
        "outputId": "cfae4812-cd44-4199-8f99-fa31fd8524b8"
      },
      "outputs": [
        {
          "output_type": "stream",
          "name": "stdout",
          "text": [
            "x의 값을 입력하시오. : 10\n",
            "y의 값을 입력하시오. : 20\n",
            "x와 y의 합은 :  30\n",
            "x와 y의 차는 :  -10\n",
            "x와 y의 곱은 :  200\n",
            "x와 y의 평균은 :  15.0\n",
            "x와 y의 큰수는 :  20\n",
            "x와 y의 작은수는 :  10\n"
          ]
        }
      ],
      "source": [
        "x = int(input(\"x의 값을 입력하시오. : \"))\n",
        "y = int(input(\"y의 값을 입력하시오. : \"))\n",
        "print(\"x와 y의 합은 : \" , x+y)\n",
        "print(\"x와 y의 차는 : \" , x-y)\n",
        "print(\"x와 y의 곱은 : \" , x*y)\n",
        "print(\"x와 y의 평균은 : \" , (x+y)/2)\n",
        "print(\"x와 y의 큰수는 : \" , max(x,y))\n",
        "print(\"x와 y의 작은수는 : \", min(x,y))"
      ]
    },
    {
      "cell_type": "markdown",
      "source": [
        "#3-2"
      ],
      "metadata": {
        "id": "d5KkgPQ3y8ne"
      }
    },
    {
      "cell_type": "code",
      "source": [
        "r = float(input(\"r값을 입력하시오. : \")) #변수 r의 값을 사용자로부터 받는다.float형으로\n",
        "h = float(input(\"h값을 입력하시오. : \")) #변수 h의 값을 사용자로부터 받는다.float형으로\n",
        "vol = 3.141592 * r**2 * h\n",
        "print(\"원기둥의 부피는 : \", vol, \"입니다.\")"
      ],
      "metadata": {
        "colab": {
          "base_uri": "https://localhost:8080/"
        },
        "id": "W60G4eWp2PXE",
        "outputId": "7dda27fa-f6bb-41ab-93ac-49057a2b47bc"
      },
      "execution_count": null,
      "outputs": [
        {
          "output_type": "stream",
          "name": "stdout",
          "text": [
            "r값을 입력하시오. : 10\n",
            "h값을 입력하시오. : 100\n",
            "원기둥의 부피는 :  31415.92 입니다.\n"
          ]
        }
      ]
    },
    {
      "cell_type": "markdown",
      "source": [
        "#3-3"
      ],
      "metadata": {
        "id": "1pICJpOGy_hH"
      }
    },
    {
      "cell_type": "code",
      "source": [
        "number = int(input(\"정수를 입력하시오. : \"))\n",
        "sum = 0                       # 변수 sum을 0으로 초기화한다.\n",
        "sum = sum + number % 10\n",
        "number = number // 10\n",
        "sum = sum + number % 10\n",
        "number = number // 10\n",
        "sum = sum + number % 10\n",
        "number = number // 10\n",
        "sum = sum + number % 10\n",
        "number = number // 10\n",
        "print(\"자리수의 합 : \", str(sum))"
      ],
      "metadata": {
        "colab": {
          "base_uri": "https://localhost:8080/"
        },
        "id": "5zw32nKZ3Z1z",
        "outputId": "559f4c50-72ef-4354-c843-6c5dbde44480"
      },
      "execution_count": null,
      "outputs": [
        {
          "output_type": "stream",
          "name": "stdout",
          "text": [
            "정수를 입력하시오. : 1234\n",
            "자리수의 합 :  10\n"
          ]
        }
      ]
    },
    {
      "cell_type": "markdown",
      "source": [
        "#3-4"
      ],
      "metadata": {
        "id": "F0BsNqyGzES3"
      }
    },
    {
      "cell_type": "code",
      "source": [
        "x1 = int(input(\"x1값을 입력하시오. : \"))\n",
        "y1 = int(input(\"y1값을 입력하시오. : \"))\n",
        "x2 = int(input(\"x2값을 입력하시오. : \"))\n",
        "y2 = int(input(\"y2값을 입력하시오. : \"))\n",
        "\n",
        "dist = ((x2-x1)**2 + (y2-y1)**2)**0.5\n",
        "\n",
        "print(\"두점 사이의 거리= \", dist,\"입니다.\")"
      ],
      "metadata": {
        "colab": {
          "base_uri": "https://localhost:8080/"
        },
        "id": "7_m8WR8W48HD",
        "outputId": "59297866-855d-478b-f95d-ea7560853f77"
      },
      "execution_count": null,
      "outputs": [
        {
          "output_type": "stream",
          "name": "stdout",
          "text": [
            "x1값을 입력하시오. : 0\n",
            "y1값을 입력하시오. : 0\n",
            "x2값을 입력하시오. : 100\n",
            "y2값을 입력하시오. : 100\n",
            "두점 사이의 거리=  141.4213562373095 입니다.\n"
          ]
        }
      ]
    },
    {
      "cell_type": "markdown",
      "source": [
        "# 3-7"
      ],
      "metadata": {
        "id": "CgPDAejJH51P"
      }
    },
    {
      "cell_type": "code",
      "source": [
        "import time\n",
        "fsecond = time.time()\n",
        "total_sec = int(fsecond)\n",
        "total_min = total_sec // 60\n",
        "minute = total_min % 60\n",
        "total_hour = total_min // 60\n",
        "hour = total_hour % 24\n",
        "print(\"현재시각은 (영국 그리니치 표준시각): \", str(hour) + \"시\" + str(minute) + \"분\")"
      ],
      "metadata": {
        "colab": {
          "base_uri": "https://localhost:8080/"
        },
        "id": "tDGI4LXR9dKC",
        "outputId": "a306fb86-eea1-4477-a322-81f39a1adcf1"
      },
      "execution_count": null,
      "outputs": [
        {
          "output_type": "stream",
          "name": "stdout",
          "text": [
            "현재시각은 (영국 그리니치 표준시각):  3시48분\n"
          ]
        }
      ]
    },
    {
      "cell_type": "markdown",
      "source": [
        "#3-8"
      ],
      "metadata": {
        "id": "sW-XetbDzNVx"
      }
    },
    {
      "cell_type": "code",
      "source": [
        "weight = int(input(\"물체의 무게를 입력하시오(킬로그램) : \"))\n",
        "speed = int(input(\"물체의 속도를 입력하시오(미터/초) : \"))\n",
        "print(\"물체는 %.1lf (줄)의 에너지를 가지고 있다.\" %(1/2*weight*speed**2))"
      ],
      "metadata": {
        "id": "iieeRdS-zPQZ",
        "outputId": "a769af95-25e4-4726-8ae3-558a3c702788",
        "colab": {
          "base_uri": "https://localhost:8080/"
        }
      },
      "execution_count": 1,
      "outputs": [
        {
          "output_type": "stream",
          "name": "stdout",
          "text": [
            "물체의 무게를 입력하시오(킬로그램) : 10\n",
            "물체의 속도를 입력하시오(미터/초) : 100\n",
            "물체는 50000.0 (줄)의 에너지를 가지고 있다.\n"
          ]
        }
      ]
    }
  ]
}